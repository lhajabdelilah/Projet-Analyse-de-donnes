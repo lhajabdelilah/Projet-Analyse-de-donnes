{
 "cells": [
  {
   "cell_type": "markdown",
   "id": "d9f91c61",
   "metadata": {},
   "source": [
    "# AFC"
   ]
  },
  {
   "cell_type": "code",
   "execution_count": 1,
   "id": "054f63df",
   "metadata": {},
   "outputs": [],
   "source": [
    "import pandas as pd\n",
    "import numpy as np\n",
    "from fanalysis.ca import CA"
   ]
  },
  {
   "cell_type": "code",
   "execution_count": 2,
   "id": "2db53b43",
   "metadata": {},
   "outputs": [],
   "source": [
    "# Lire le fichier Excel\n",
    "data = pd.read_excel(\"train (1).xlsx\")"
   ]
  },
  {
   "cell_type": "code",
   "execution_count": 3,
   "id": "e33e35e3",
   "metadata": {},
   "outputs": [
    {
     "name": "stdout",
     "output_type": "stream",
     "text": [
      "Valeurs manquantes par colonne:\n",
      " Loan_ID              0\n",
      "Gender               0\n",
      "Married              0\n",
      "Dependents           0\n",
      "Education            0\n",
      "Self_Employed        0\n",
      "ApplicantIncome      0\n",
      "CoapplicantIncome    0\n",
      "LoanAmount           0\n",
      "Loan_Amount_Term     0\n",
      "Credit_History       0\n",
      "Property_Area        0\n",
      "Loan_Status          0\n",
      "dtype: int64\n"
     ]
    }
   ],
   "source": [
    "# Vérifier les valeurs manquantes\n",
    "missing_values = data.isnull().sum()\n",
    "print(\"Valeurs manquantes par colonne:\\n\", missing_values)"
   ]
  },
  {
   "cell_type": "code",
   "execution_count": 4,
   "id": "80742cd4",
   "metadata": {},
   "outputs": [],
   "source": [
    "# Définir 'Loan_Status' comme l'index\n",
    "df = data.set_index(\"Loan_Status\")"
   ]
  },
  {
   "cell_type": "code",
   "execution_count": 5,
   "id": "558b1c40",
   "metadata": {},
   "outputs": [],
   "source": [
    "# Convertir toutes les colonnes en valeurs numériques, en forçant les erreurs à NaN\n",
    "for col in df.columns:\n",
    "    df[col] = pd.to_numeric(df[col], errors='coerce')"
   ]
  },
  {
   "cell_type": "code",
   "execution_count": 6,
   "id": "46eb8a45",
   "metadata": {},
   "outputs": [
    {
     "name": "stdout",
     "output_type": "stream",
     "text": [
      "Types de données après conversion :\n",
      " Loan_ID              float64\n",
      "Gender               float64\n",
      "Married              float64\n",
      "Dependents           float64\n",
      "Education            float64\n",
      "Self_Employed        float64\n",
      "ApplicantIncome        int64\n",
      "CoapplicantIncome    float64\n",
      "LoanAmount             int64\n",
      "Loan_Amount_Term       int64\n",
      "Credit_History         int64\n",
      "Property_Area        float64\n",
      "dtype: object\n"
     ]
    }
   ],
   "source": [
    "# Imprimer les types de données après la conversion\n",
    "print(\"Types de données après conversion :\\n\", df.dtypes)"
   ]
  },
  {
   "cell_type": "code",
   "execution_count": 7,
   "id": "45f10347",
   "metadata": {},
   "outputs": [],
   "source": [
    "# Remplacer les valeurs infinies par NaN\n",
    "df.replace([np.inf, -np.inf], np.nan, inplace=True)"
   ]
  },
  {
   "cell_type": "code",
   "execution_count": 8,
   "id": "cecca59e",
   "metadata": {},
   "outputs": [
    {
     "name": "stdout",
     "output_type": "stream",
     "text": [
      "Valeurs infinies par colonne après remplacement:\n",
      " [500 500 500  43 500 500   0   0   0   0   0 500]\n"
     ]
    }
   ],
   "source": [
    "# Vérifier les valeurs infinies après le remplacement\n",
    "print(\"Valeurs infinies par colonne après remplacement:\\n\", np.sum(~np.isfinite(df.values), axis=0))\n"
   ]
  },
  {
   "cell_type": "code",
   "execution_count": 9,
   "id": "9e19c62a",
   "metadata": {},
   "outputs": [
    {
     "name": "stdout",
     "output_type": "stream",
     "text": [
      "Valeurs NaN par colonne après conversion:\n",
      " [500 500 500  43 500 500   0   0   0   0   0 500]\n"
     ]
    }
   ],
   "source": [
    "# Vérifier les valeurs NaN après la conversion\n",
    "nan_mask = np.isnan(df.values)\n",
    "print(\"Valeurs NaN par colonne après conversion:\\n\", np.sum(nan_mask, axis=0))\n"
   ]
  },
  {
   "cell_type": "code",
   "execution_count": 10,
   "id": "ce48d168",
   "metadata": {},
   "outputs": [],
   "source": [
    "# Supprimer les colonnes avec plus de 20% de valeurs NaN\n",
    "threshold = 0.2\n",
    "df = df.loc[:, df.isnull().mean() < threshold]"
   ]
  },
  {
   "cell_type": "code",
   "execution_count": 11,
   "id": "f1fa2ee5",
   "metadata": {},
   "outputs": [],
   "source": [
    "# Remplacer les valeurs NaN : colonnes numériques par la moyenne, catégorielles par le mode\n",
    "for col in df.columns:\n",
    "    if df[col].dtype == 'float64' or df[col].dtype == 'int64':\n",
    "        df[col].fillna(df[col].mean(), inplace=True)\n",
    "    else:\n",
    "        df[col].fillna(df[col].mode()[0], inplace=True)"
   ]
  },
  {
   "cell_type": "code",
   "execution_count": 12,
   "id": "7692f6d2",
   "metadata": {},
   "outputs": [
    {
     "name": "stdout",
     "output_type": "stream",
     "text": [
      "Valeurs NaN par colonne après remplissage:\n",
      " [0 0 0 0 0 0]\n"
     ]
    }
   ],
   "source": [
    "# Vérifier les valeurs NaN après le remplissage\n",
    "nan_mask_after = np.isnan(df.values)\n",
    "print(\"Valeurs NaN par colonne après remplissage:\\n\", np.sum(nan_mask_after, axis=0))\n"
   ]
  },
  {
   "cell_type": "code",
   "execution_count": 13,
   "id": "c626fbf3",
   "metadata": {},
   "outputs": [],
   "source": [
    "# Supprimer les lignes contenant des valeurs NaN restantes\n",
    "df.dropna(inplace=True)"
   ]
  },
  {
   "cell_type": "code",
   "execution_count": 14,
   "id": "76ddff7b",
   "metadata": {},
   "outputs": [
    {
     "name": "stdout",
     "output_type": "stream",
     "text": [
      "Valeurs NaN par colonne après tentative de remplissage final:\n",
      " [0 0 0 0 0 0]\n"
     ]
    }
   ],
   "source": [
    "# Vérifier qu'il n'y a plus de valeurs NaN\n",
    "nan_mask_final = np.isnan(df.values)\n",
    "print(\"Valeurs NaN par colonne après tentative de remplissage final:\\n\", np.sum(nan_mask_final, axis=0))\n"
   ]
  },
  {
   "cell_type": "code",
   "execution_count": 15,
   "id": "b3f3c2cc",
   "metadata": {},
   "outputs": [],
   "source": [
    "# Supprimer les colonnes avec une faible variance\n",
    "variances = df.var()\n",
    "low_variance_cols = variances[variances == 0].index\n",
    "df.drop(columns=low_variance_cols, inplace=True)"
   ]
  },
  {
   "cell_type": "code",
   "execution_count": 16,
   "id": "750f4215",
   "metadata": {},
   "outputs": [],
   "source": [
    "# Définir les données à utiliser dans l'AC\n",
    "interested_data = df"
   ]
  },
  {
   "cell_type": "code",
   "execution_count": 17,
   "id": "176a4560",
   "metadata": {},
   "outputs": [],
   "source": [
    "\n",
    "# Créer une instance de la classe CA\n",
    "afc = CA(row_labels=interested_data.index.values, col_labels=interested_data.columns.values, stats=True)\n"
   ]
  },
  {
   "cell_type": "code",
   "execution_count": 19,
   "id": "c1dd1de8",
   "metadata": {},
   "outputs": [
    {
     "data": {
      "image/png": "[encoded data removed]",
      "text/plain": [
       "<Figure size 640x480 with 1 Axes>"
      ]
     },
     "metadata": {},
     "output_type": "display_data"
    }
   ],
   "source": [
    "# Exécuter l'analyse de correspondance\n",
    "try:\n",
    "    afc.fit(interested_data.values)\n",
    "\n",
    "    # Vérifier si les coordonnées des lignes sont calculées\n",
    "    if hasattr(afc, 'row_coord_') and afc.row_coord_.size > 0:\n",
    "        # Tracer la cartographie des lignes\n",
    "        afc.mapping_row(num_x_axis=1, num_y_axis=2)\n",
    "    else:\n",
    "        print(\"Error: row_coord_ is not populated. Ensure the CA analysis was successful.\")\n",
    "except Exception as e:\n",
    "    print(f\"An error occurred during CA analysis: {e}\")"
   ]
  },
  {
   "cell_type": "markdown",
   "id": "6b76e534",
   "metadata": {},
   "source": [
    "# Interprétation\n",
    "Dim 1 (94.05%) capture la majorité de la variance totale des données, expliquant 94.05% de l'information. Dim 2 (5.24%) capture 5.24% de la variance totale ajoutant des variations dans les données qui ne sont pas expliquées par Dim 1.Ces variations peuvent inclure des différences subtiles dans les caractéristiques des demandes de prêt qui contribuent à la distinction entre les prêts approuvés et refusés.\n",
    "Bien que Dim 1 capture une grande partie de la variance, il n'y a pas de séparation nette entre les points \"Y\" et \"N\". Cela signifie que les deux premières dimensions identifiées par l'analyse de correspondance ne permettent pas de discriminer clairement entre les prêts approuvés et refusés. Les points sont concentrés autour du centre du graphique, suggérant que la plupart des observations partagent des caractéristiques communes et sont relativement similaires les unes aux autres. Cependant, quelques points \"N\" se trouvent loin du centre, indiquant des caractéristiques distinctes ou atypiques."
   ]
  }
 ],
 "metadata": {
  "kernelspec": {
   "display_name": "Python 3 (ipykernel)",
   "language": "python",
   "name": "python3"
  },
  "language_info": {
   "codemirror_mode": {
    "name": "ipython",
    "version": 3
   },
   "file_extension": ".py",
   "mimetype": "text/x-python",
   "name": "python",
   "nbconvert_exporter": "python",
   "pygments_lexer": "ipython3",
   "version": "3.11.5"
  }
 },
 "nbformat": 4,
 "nbformat_minor": 5
}
