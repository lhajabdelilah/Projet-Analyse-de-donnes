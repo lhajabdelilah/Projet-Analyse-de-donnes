{
 "cells": [
  {
   "cell_type": "markdown",
   "id": "3a5af897",
   "metadata": {},
   "source": [
    "Quelle est la précision du modèle Random Forest par rapport aux arbres de décision simple pour la prédiction de l'approbation des prêts?"
   ]
  },
  {
   "cell_type": "code",
   "execution_count": 27,
   "id": "bbd64bb2",
   "metadata": {},
   "outputs": [
    {
     "name": "stdout",
     "output_type": "stream",
     "text": [
      "Loan_ID               object\n",
      "Gender                object\n",
      "Married               object\n",
      "Dependents            object\n",
      "Education             object\n",
      "Self_Employed         object\n",
      "ApplicantIncome        int64\n",
      "CoapplicantIncome    float64\n",
      "LoanAmount             int64\n",
      "Loan_Amount_Term       int64\n",
      "Credit_History         int64\n",
      "Property_Area         object\n",
      "Loan_Status           object\n",
      "dtype: object\n"
     ]
    }
   ],
   "source": [
    "import pandas as pd\n",
    "from sklearn.model_selection import train_test_split\n",
    "from sklearn.preprocessing import LabelEncoder\n",
    "from sklearn.tree import DecisionTreeClassifier\n",
    "from sklearn.ensemble import RandomForestClassifier\n",
    "from sklearn.metrics import accuracy_score\n",
    "\n",
    "# Charger les données (Remplacer 'loan_data.csv' par votre fichier de données)\n",
    "data = pd.read_excel('train (1).xlsx')\n",
    "# Affichage des types de colonnes pour identifier celles de type 'object'\n",
    "print(data.dtypes)"
   ]
  },
  {
   "cell_type": "code",
   "execution_count": 28,
   "id": "7b92a64a",
   "metadata": {},
   "outputs": [],
   "source": [
    "# Fonction pour détecter et convertir les types mixtes\n",
    "def clean_column(column):\n",
    "    # Essayer de convertir en numérique, sinon laisser en chaîne de caractères\n",
    "    try:\n",
    "        return pd.to_numeric(column, errors='coerce')\n",
    "    except:\n",
    "        return column.astype(str)"
   ]
  },
  {
   "cell_type": "code",
   "execution_count": 29,
   "id": "7e153b8f",
   "metadata": {},
   "outputs": [],
   "source": [
    "# Appliquer la fonction de nettoyage sur toutes les colonnes de type 'object'\n",
    "for column in data.select_dtypes(include=['object']).columns:\n",
    "    data[column] = clean_column(data[column])"
   ]
  },
  {
   "cell_type": "code",
   "execution_count": 30,
   "id": "213710e4",
   "metadata": {},
   "outputs": [
    {
     "name": "stdout",
     "output_type": "stream",
     "text": [
      "Loan_ID              float64\n",
      "Gender               float64\n",
      "Married              float64\n",
      "Dependents           float64\n",
      "Education            float64\n",
      "Self_Employed        float64\n",
      "ApplicantIncome        int64\n",
      "CoapplicantIncome    float64\n",
      "LoanAmount             int64\n",
      "Loan_Amount_Term       int64\n",
      "Credit_History         int64\n",
      "Property_Area        float64\n",
      "Loan_Status          float64\n",
      "dtype: object\n"
     ]
    }
   ],
   "source": [
    "# Afficher les types de colonnes après nettoyage\n",
    "print(data.dtypes)"
   ]
  },
  {
   "cell_type": "code",
   "execution_count": 31,
   "id": "4962e721",
   "metadata": {},
   "outputs": [],
   "source": [
    "# Colonnes catégorielles à encoder\n",
    "categorical_columns = ['Gender', 'Married', 'Education', 'Self_Employed', 'Property_Area']"
   ]
  },
  {
   "cell_type": "code",
   "execution_count": 32,
   "id": "99f141f7",
   "metadata": {},
   "outputs": [],
   "source": [
    "# Encoder les colonnes catégorielles\n",
    "label_encoders = {}\n",
    "for column in categorical_columns:\n",
    "    le = LabelEncoder()\n",
    "    data[column] = le.fit_transform(data[column])\n",
    "    label_encoders[column] = le"
   ]
  },
  {
   "cell_type": "code",
   "execution_count": 9,
   "id": "54e293a0",
   "metadata": {},
   "outputs": [],
   "source": [
    "# Séparation des features et de la cible\n",
    "X = data.drop('Loan_Status', axis=1)  # Remplacer 'Loan_Status' par le nom de la colonne cible\n",
    "y = data['Loan_Status']"
   ]
  },
  {
   "cell_type": "code",
   "execution_count": 10,
   "id": "6b25eed4",
   "metadata": {},
   "outputs": [],
   "source": [
    "# Encoder la colonne cible\n",
    "le_target = LabelEncoder()\n",
    "y = le_target.fit_transform(y)"
   ]
  },
  {
   "cell_type": "code",
   "execution_count": 12,
   "id": "3bab0c76",
   "metadata": {},
   "outputs": [],
   "source": [
    "# Séparer les données en ensembles d'entraînement et de test\n",
    "X_train, X_test, y_train, y_test = train_test_split(X, y, test_size=0.2, random_state=42)"
   ]
  },
  {
   "cell_type": "code",
   "execution_count": 14,
   "id": "12e3d5c4",
   "metadata": {},
   "outputs": [],
   "source": [
    "# Entraîner un modèle d'arbre de décision\n",
    "decision_tree = DecisionTreeClassifier(random_state=42)\n",
    "decision_tree.fit(X_train, y_train)\n",
    "y_pred_tree = decision_tree.predict(X_test)\n",
    "accuracy_tree = accuracy_score(y_test, y_pred_tree)\n"
   ]
  },
  {
   "cell_type": "code",
   "execution_count": 20,
   "id": "137859a9",
   "metadata": {},
   "outputs": [],
   "source": [
    "from sklearn.impute import SimpleImputer\n",
    "\n",
    "# Supprimer la colonne 'Loan_ID'\n",
    "X_train = X_train.drop(columns=['Loan_ID'])\n",
    "X_test = X_test.drop(columns=['Loan_ID'])\n",
    "\n",
    "# Imputer les valeurs manquantes avec la moyenne\n",
    "imputer = SimpleImputer(strategy='mean')\n",
    "X_train_imputed = imputer.fit_transform(X_train)\n",
    "X_test_imputed = imputer.transform(X_test)"
   ]
  },
  {
   "cell_type": "code",
   "execution_count": 22,
   "id": "4bc62a27",
   "metadata": {},
   "outputs": [
    {
     "name": "stdout",
     "output_type": "stream",
     "text": [
      "Nombre de valeurs manquantes par colonne dans X_train :\n",
      " Gender                0\n",
      "Married               0\n",
      "Dependents           36\n",
      "Education             0\n",
      "Self_Employed         0\n",
      "ApplicantIncome       0\n",
      "CoapplicantIncome     0\n",
      "LoanAmount            0\n",
      "Loan_Amount_Term      0\n",
      "Credit_History        0\n",
      "Property_Area         0\n",
      "dtype: int64\n",
      "Nombre de valeurs manquantes par colonne dans X_test :\n",
      " Gender               0\n",
      "Married              0\n",
      "Dependents           7\n",
      "Education            0\n",
      "Self_Employed        0\n",
      "ApplicantIncome      0\n",
      "CoapplicantIncome    0\n",
      "LoanAmount           0\n",
      "Loan_Amount_Term     0\n",
      "Credit_History       0\n",
      "Property_Area        0\n",
      "dtype: int64\n"
     ]
    }
   ],
   "source": [
    "# Vérifier les valeurs manquantes dans X_train\n",
    "missing_values = X_train.isnull().sum()\n",
    "print(\"Nombre de valeurs manquantes par colonne dans X_train :\\n\", missing_values)\n",
    "\n",
    "# Vérifier les valeurs manquantes dans X_test\n",
    "missing_values_test = X_test.isnull().sum()\n",
    "print(\"Nombre de valeurs manquantes par colonne dans X_test :\\n\", missing_values_test)"
   ]
  },
  {
   "cell_type": "code",
   "execution_count": 23,
   "id": "daf6fead",
   "metadata": {},
   "outputs": [
    {
     "name": "stdout",
     "output_type": "stream",
     "text": [
      "Nombre de valeurs manquantes par colonne dans X_train après imputation :\n",
      " Gender               0\n",
      "Married              0\n",
      "Dependents           0\n",
      "Education            0\n",
      "Self_Employed        0\n",
      "ApplicantIncome      0\n",
      "CoapplicantIncome    0\n",
      "LoanAmount           0\n",
      "Loan_Amount_Term     0\n",
      "Credit_History       0\n",
      "Property_Area        0\n",
      "dtype: int64\n",
      "Nombre de valeurs manquantes par colonne dans X_test après imputation :\n",
      " Gender               0\n",
      "Married              0\n",
      "Dependents           0\n",
      "Education            0\n",
      "Self_Employed        0\n",
      "ApplicantIncome      0\n",
      "CoapplicantIncome    0\n",
      "LoanAmount           0\n",
      "Loan_Amount_Term     0\n",
      "Credit_History       0\n",
      "Property_Area        0\n",
      "dtype: int64\n"
     ]
    }
   ],
   "source": [
    "\n",
    "\n",
    "# Imputer les valeurs manquantes dans la colonne 'Dependents'\n",
    "imputer = SimpleImputer(strategy='most_frequent')  # Utilisation de la stratégie la plus fréquente pour les variables catégorielles\n",
    "\n",
    "# Imputation sur X_train\n",
    "X_train['Dependents'] = imputer.fit_transform(X_train[['Dependents']])\n",
    "\n",
    "# Imputation sur X_test\n",
    "X_test['Dependents'] = imputer.transform(X_test[['Dependents']])\n",
    "\n",
    "# Vérifier à nouveau les valeurs manquantes pour s'assurer que tout est imputé\n",
    "print(\"Nombre de valeurs manquantes par colonne dans X_train après imputation :\\n\", X_train.isnull().sum())\n",
    "print(\"Nombre de valeurs manquantes par colonne dans X_test après imputation :\\n\", X_test.isnull().sum())\n"
   ]
  },
  {
   "cell_type": "code",
   "execution_count": 24,
   "id": "2da5c9f1",
   "metadata": {},
   "outputs": [],
   "source": [
    "# Entraîner un modèle Random Forest\n",
    "random_forest = RandomForestClassifier(random_state=42)\n",
    "random_forest.fit(X_train, y_train)\n",
    "y_pred_forest = random_forest.predict(X_test)\n",
    "accuracy_forest = accuracy_score(y_test, y_pred_forest)"
   ]
  },
  {
   "cell_type": "code",
   "execution_count": 25,
   "id": "4976b3a7",
   "metadata": {},
   "outputs": [
    {
     "name": "stdout",
     "output_type": "stream",
     "text": [
      "Précision de l'arbre de décision: 1.00\n",
      "Précision du Random Forest: 1.00\n"
     ]
    }
   ],
   "source": [
    "# Afficher les résultats\n",
    "print(f\"Précision de l'arbre de décision: {accuracy_tree:.2f}\")\n",
    "print(f\"Précision du Random Forest: {accuracy_forest:.2f}\")\n"
   ]
  },
  {
   "cell_type": "markdown",
   "id": "901511e5",
   "metadata": {},
   "source": [
    "# Interprétation\n",
    "Ces résultats indiquent que les modèles d'arbre de décision et de forêt aléatoire ont atteint une précision de 100 % lors de la prédiction du statut d'approbation du prêt sur les données d'entraînement et de test. Cela signifie que les modèles ont réussi à classer correctement chaque exemple dans l'ensemble de données en fonction de leur statut d'approbation du prêt qu'il s'agisse de \"Approuvé\" ou \"Refusé\", en utilisant les variables disponibles telles que le genre, l'état matrimonial, le revenu de l'emprunteur, le montant du prêt, etc. Cependant, une précision de 100 % sur les données de test peut également indiquer un surajustement du modèle aux données d'entraînement."
   ]
  },
  {
   "cell_type": "code",
   "execution_count": 34,
   "id": "14b8747f",
   "metadata": {},
   "outputs": [],
   "source": [
    "# Extraire un arbre de la forêt\n",
    "clf_tree = random_forest.estimators_[0]"
   ]
  },
  {
   "cell_type": "code",
   "execution_count": 26,
   "id": "d3204f3c",
   "metadata": {},
   "outputs": [
    {
     "name": "stdout",
     "output_type": "stream",
     "text": [
      "L'arbre de décision a une meilleure précision que le modèle Random Forest.\n"
     ]
    }
   ],
   "source": [
    "# Comparer les deux modèles\n",
    "if accuracy_forest > accuracy_tree:\n",
    "    print(\"Le modèle Random Forest a une meilleure précision que l'arbre de décision.\")\n",
    "else:\n",
    "    print(\"L'arbre de décision a une meilleure précision que le modèle Random Forest.\")"
   ]
  },
  {
   "cell_type": "markdown",
   "id": "f0d0ac7c",
   "metadata": {},
   "source": [
    "# Interprétation\n",
    "Sur l'ensemble de données de test l'arbre de décision a produit des prédictions plus précises que le modèle Random Forest. En d'autres termes, lorsqu'il s'agit de prédire le statut d'approbation du prêt pour de nouveaux exemples, l'arbre de décision a mieux généralisé et effectué des prédictions plus fiables par rapport au modèle Random Forest."
   ]
  }
 ],
 "metadata": {
  "kernelspec": {
   "display_name": "Python 3 (ipykernel)",
   "language": "python",
   "name": "python3"
  },
  "language_info": {
   "codemirror_mode": {
    "name": "ipython",
    "version": 3
   },
   "file_extension": ".py",
   "mimetype": "text/x-python",
   "name": "python",
   "nbconvert_exporter": "python",
   "pygments_lexer": "ipython3",
   "version": "3.11.5"
  }
 },
 "nbformat": 4,
 "nbformat_minor": 5
}
