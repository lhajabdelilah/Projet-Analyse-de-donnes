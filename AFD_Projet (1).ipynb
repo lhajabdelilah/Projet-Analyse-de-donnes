{
 "cells": [
  {
   "cell_type": "markdown",
   "id": "f63d9aa8",
   "metadata": {},
   "source": [
    "# Objectif\n",
    "L'objectif de cette analyse est de déterminer si l'approbation d'un prêt (variable cible) peut être prédite en utilisant les variables disponibles (caractéristiques des demandeurs de prêt). Pour cela, nous avons utilisé l'Analyse Factorielle Discriminante"
   ]
  },
  {
   "cell_type": "code",
   "execution_count": 78,
   "id": "6f654650",
   "metadata": {},
   "outputs": [],
   "source": [
    "from sklearn import datasets\n",
    "import pandas as pd\n",
    "import numpy as np\n",
    "np.set_printoptions(precision=4)\n",
    "from matplotlib import pyplot as plt\n",
    "import seaborn as sns\n",
    "sns.set()\n",
    "from sklearn.preprocessing import LabelEncoder"
   ]
  },
  {
   "cell_type": "code",
   "execution_count": 81,
   "id": "b3e3320d",
   "metadata": {},
   "outputs": [],
   "source": [
    "import pandas as pd\n",
    "train_data = pd.read_excel('train (1).xlsx')\n"
   ]
  },
  {
   "cell_type": "code",
   "execution_count": 82,
   "id": "f163a025",
   "metadata": {},
   "outputs": [
    {
     "data": {
      "text/plain": [
       "<bound method NDFrame.head of       Loan_ID  Gender Married Dependents     Education Self_Employed  \\\n",
       "0    LP001003    Male     Yes          1      Graduate            No   \n",
       "1    LP001005    Male     Yes          0      Graduate           Yes   \n",
       "2    LP001006    Male     Yes          0  Not Graduate            No   \n",
       "3    LP001008    Male      No          0      Graduate            No   \n",
       "4    LP001011    Male     Yes          2      Graduate           Yes   \n",
       "..        ...     ...     ...        ...           ...           ...   \n",
       "495  LP002978  Female      No          0      Graduate            No   \n",
       "496  LP002979    Male     Yes         3+      Graduate            No   \n",
       "497  LP002983    Male     Yes          1      Graduate            No   \n",
       "498  LP002984    Male     Yes          2      Graduate            No   \n",
       "499  LP002990  Female      No          0      Graduate           Yes   \n",
       "\n",
       "     ApplicantIncome  CoapplicantIncome  LoanAmount  Loan_Amount_Term  \\\n",
       "0               4583             1508.0         128               360   \n",
       "1               3000                0.0          66               360   \n",
       "2               2583             2358.0         120               360   \n",
       "3               6000                0.0         141               360   \n",
       "4               5417             4196.0         267               360   \n",
       "..               ...                ...         ...               ...   \n",
       "495             2900                0.0          71               360   \n",
       "496             4106                0.0          40               180   \n",
       "497             8072              240.0         253               360   \n",
       "498             7583                0.0         187               360   \n",
       "499             4583                0.0         133               360   \n",
       "\n",
       "     Credit_History Property_Area  \n",
       "0                 1         Rural  \n",
       "1                 1         Urban  \n",
       "2                 1         Urban  \n",
       "3                 1         Urban  \n",
       "4                 1         Urban  \n",
       "..              ...           ...  \n",
       "495               1         Rural  \n",
       "496               1         Rural  \n",
       "497               1         Urban  \n",
       "498               1         Urban  \n",
       "499               0     Semiurban  \n",
       "\n",
       "[500 rows x 12 columns]>"
      ]
     },
     "execution_count": 82,
     "metadata": {},
     "output_type": "execute_result"
    }
   ],
   "source": [
    "X.head"
   ]
  },
  {
   "cell_type": "code",
   "execution_count": 83,
   "id": "a2c0edc5",
   "metadata": {},
   "outputs": [
    {
     "data": {
      "text/html": [
       "<div>\n",
       "<style scoped>\n",
       "    .dataframe tbody tr th:only-of-type {\n",
       "        vertical-align: middle;\n",
       "    }\n",
       "\n",
       "    .dataframe tbody tr th {\n",
       "        vertical-align: top;\n",
       "    }\n",
       "\n",
       "    .dataframe thead th {\n",
       "        text-align: right;\n",
       "    }\n",
       "</style>\n",
       "<table border=\"1\" class=\"dataframe\">\n",
       "  <thead>\n",
       "    <tr style=\"text-align: right;\">\n",
       "      <th></th>\n",
       "      <th>Loan_ID</th>\n",
       "      <th>Gender</th>\n",
       "      <th>Married</th>\n",
       "      <th>Dependents</th>\n",
       "      <th>Education</th>\n",
       "      <th>Self_Employed</th>\n",
       "      <th>ApplicantIncome</th>\n",
       "      <th>CoapplicantIncome</th>\n",
       "      <th>LoanAmount</th>\n",
       "      <th>Loan_Amount_Term</th>\n",
       "      <th>Credit_History</th>\n",
       "      <th>Property_Area</th>\n",
       "      <th>Loan_Status</th>\n",
       "    </tr>\n",
       "  </thead>\n",
       "  <tbody>\n",
       "    <tr>\n",
       "      <th>0</th>\n",
       "      <td>LP001003</td>\n",
       "      <td>Male</td>\n",
       "      <td>Yes</td>\n",
       "      <td>1</td>\n",
       "      <td>Graduate</td>\n",
       "      <td>No</td>\n",
       "      <td>4583</td>\n",
       "      <td>1508.0</td>\n",
       "      <td>128</td>\n",
       "      <td>360</td>\n",
       "      <td>1</td>\n",
       "      <td>Rural</td>\n",
       "      <td>N</td>\n",
       "    </tr>\n",
       "    <tr>\n",
       "      <th>1</th>\n",
       "      <td>LP001005</td>\n",
       "      <td>Male</td>\n",
       "      <td>Yes</td>\n",
       "      <td>0</td>\n",
       "      <td>Graduate</td>\n",
       "      <td>Yes</td>\n",
       "      <td>3000</td>\n",
       "      <td>0.0</td>\n",
       "      <td>66</td>\n",
       "      <td>360</td>\n",
       "      <td>1</td>\n",
       "      <td>Urban</td>\n",
       "      <td>Y</td>\n",
       "    </tr>\n",
       "    <tr>\n",
       "      <th>2</th>\n",
       "      <td>LP001006</td>\n",
       "      <td>Male</td>\n",
       "      <td>Yes</td>\n",
       "      <td>0</td>\n",
       "      <td>Not Graduate</td>\n",
       "      <td>No</td>\n",
       "      <td>2583</td>\n",
       "      <td>2358.0</td>\n",
       "      <td>120</td>\n",
       "      <td>360</td>\n",
       "      <td>1</td>\n",
       "      <td>Urban</td>\n",
       "      <td>Y</td>\n",
       "    </tr>\n",
       "    <tr>\n",
       "      <th>3</th>\n",
       "      <td>LP001008</td>\n",
       "      <td>Male</td>\n",
       "      <td>No</td>\n",
       "      <td>0</td>\n",
       "      <td>Graduate</td>\n",
       "      <td>No</td>\n",
       "      <td>6000</td>\n",
       "      <td>0.0</td>\n",
       "      <td>141</td>\n",
       "      <td>360</td>\n",
       "      <td>1</td>\n",
       "      <td>Urban</td>\n",
       "      <td>Y</td>\n",
       "    </tr>\n",
       "    <tr>\n",
       "      <th>4</th>\n",
       "      <td>LP001011</td>\n",
       "      <td>Male</td>\n",
       "      <td>Yes</td>\n",
       "      <td>2</td>\n",
       "      <td>Graduate</td>\n",
       "      <td>Yes</td>\n",
       "      <td>5417</td>\n",
       "      <td>4196.0</td>\n",
       "      <td>267</td>\n",
       "      <td>360</td>\n",
       "      <td>1</td>\n",
       "      <td>Urban</td>\n",
       "      <td>Y</td>\n",
       "    </tr>\n",
       "  </tbody>\n",
       "</table>\n",
       "</div>"
      ],
      "text/plain": [
       "    Loan_ID Gender Married Dependents     Education Self_Employed  \\\n",
       "0  LP001003   Male     Yes          1      Graduate            No   \n",
       "1  LP001005   Male     Yes          0      Graduate           Yes   \n",
       "2  LP001006   Male     Yes          0  Not Graduate            No   \n",
       "3  LP001008   Male      No          0      Graduate            No   \n",
       "4  LP001011   Male     Yes          2      Graduate           Yes   \n",
       "\n",
       "   ApplicantIncome  CoapplicantIncome  LoanAmount  Loan_Amount_Term  \\\n",
       "0             4583             1508.0         128               360   \n",
       "1             3000                0.0          66               360   \n",
       "2             2583             2358.0         120               360   \n",
       "3             6000                0.0         141               360   \n",
       "4             5417             4196.0         267               360   \n",
       "\n",
       "   Credit_History Property_Area Loan_Status  \n",
       "0               1         Rural           N  \n",
       "1               1         Urban           Y  \n",
       "2               1         Urban           Y  \n",
       "3               1         Urban           Y  \n",
       "4               1         Urban           Y  "
      ]
     },
     "execution_count": 83,
     "metadata": {},
     "output_type": "execute_result"
    }
   ],
   "source": [
    "#Ajouter...\n",
    "df = X.join(pd.Series(y, name='Loan_Status'))\n",
    "df.head()"
   ]
  },
  {
   "cell_type": "code",
   "execution_count": 84,
   "id": "e2fff0b7",
   "metadata": {},
   "outputs": [],
   "source": [
    "#préparation des données\n",
    "df['Dependents'] = df['Dependents'].replace('3+', '3')\n",
    "# Convertir la colonne 'Dependents' en numérique\n",
    "df['Dependents'] = df['Dependents'].astype(int)"
   ]
  },
  {
   "cell_type": "code",
   "execution_count": 86,
   "id": "9d159cce",
   "metadata": {},
   "outputs": [
    {
     "name": "stdout",
     "output_type": "stream",
     "text": [
      "     Loan_ID  Gender  Married  Dependents  Education  Self_Employed  \\\n",
      "0          0       1        1           1          0              0   \n",
      "1          1       1        1           0          0              1   \n",
      "2          2       1        1           0          1              0   \n",
      "3          3       1        0           0          0              0   \n",
      "4          4       1        1           2          0              1   \n",
      "..       ...     ...      ...         ...        ...            ...   \n",
      "495      495       0        0           0          0              0   \n",
      "496      496       1        1           3          0              0   \n",
      "497      497       1        1           1          0              0   \n",
      "498      498       1        1           2          0              0   \n",
      "499      499       0        0           0          0              1   \n",
      "\n",
      "     ApplicantIncome  CoapplicantIncome  LoanAmount  Loan_Amount_Term  \\\n",
      "0               4583             1508.0         128               360   \n",
      "1               3000                0.0          66               360   \n",
      "2               2583             2358.0         120               360   \n",
      "3               6000                0.0         141               360   \n",
      "4               5417             4196.0         267               360   \n",
      "..               ...                ...         ...               ...   \n",
      "495             2900                0.0          71               360   \n",
      "496             4106                0.0          40               180   \n",
      "497             8072              240.0         253               360   \n",
      "498             7583                0.0         187               360   \n",
      "499             4583                0.0         133               360   \n",
      "\n",
      "     Credit_History  Property_Area  Loan_Status  \n",
      "0                 1              0            0  \n",
      "1                 1              2            1  \n",
      "2                 1              2            1  \n",
      "3                 1              2            1  \n",
      "4                 1              2            1  \n",
      "..              ...            ...          ...  \n",
      "495               1              0            1  \n",
      "496               1              0            1  \n",
      "497               1              2            1  \n",
      "498               1              2            1  \n",
      "499               0              1            0  \n",
      "\n",
      "[500 rows x 13 columns]\n"
     ]
    }
   ],
   "source": [
    "# Convertir les colonnes catégorielles en chaînes de caractères\n",
    "df['Dependents'] = df['Dependents'].astype(str)\n",
    "\n",
    "# Sélectionner les colonnes pertinentes pour l'encodage\n",
    "X_categorical = df.select_dtypes(include=['object'])\n",
    "\n",
    "# Convertir les colonnes catégorielles en numériques avec LabelEncoder\n",
    "label_encoders = {}\n",
    "for column in X_categorical.columns:\n",
    "    le = LabelEncoder()\n",
    "    df[column] = le.fit_transform(df[column])\n",
    "    label_encoders[column] = le\n",
    "\n",
    "print(df)"
   ]
  },
  {
   "cell_type": "code",
   "execution_count": 87,
   "id": "581e2c5e",
   "metadata": {},
   "outputs": [],
   "source": [
    "#Codage...\n",
    "le = LabelEncoder()\n",
    "y = le.fit_transform(df['Loan_Status'])"
   ]
  },
  {
   "cell_type": "code",
   "execution_count": 88,
   "id": "5f186c21",
   "metadata": {},
   "outputs": [],
   "source": [
    "# Séparer les caractéristiques (X) et la cible (y)\n",
    "X = df.drop(['Loan_ID', 'Loan_Status'], axis=1)  # Exclure 'Loan_ID' et 'Loan_Status' de X\n",
    "y = df['Loan_Status']\n"
   ]
  },
  {
   "cell_type": "code",
   "execution_count": 89,
   "id": "b7c0e121",
   "metadata": {},
   "outputs": [],
   "source": [
    "from sklearn.discriminant_analysis import LinearDiscriminantAnalysis\n",
    "lda = LinearDiscriminantAnalysis()\n",
    "X_lda = lda.fit_transform(X, y)"
   ]
  },
  {
   "cell_type": "code",
   "execution_count": 90,
   "id": "74f1d718",
   "metadata": {},
   "outputs": [
    {
     "data": {
      "text/plain": [
       "array([1.])"
      ]
     },
     "execution_count": 90,
     "metadata": {},
     "output_type": "execute_result"
    }
   ],
   "source": [
    "lda.explained_variance_ratio_"
   ]
  },
  {
   "cell_type": "markdown",
   "id": "c5f9f3c7",
   "metadata": {},
   "source": [
    "# Interprétation\n",
    "Un ratio de [1.0] signifie que la première composante de l'analyse discriminante linéaire capture 100% de la variance des données. Cela indique que cette composante est parfaitement capable de distinguer les deux classes présentes dans les données. En d'autres termes, il existe une combinaison linéaire des caractéristiques initiales des demandeurs de prêt qui permet de prendre une décision d'approbation ou de refus du prêt de manière précise et fiable."
   ]
  },
  {
   "cell_type": "code",
   "execution_count": 91,
   "id": "a03ebaea",
   "metadata": {},
   "outputs": [
    {
     "data": {
      "text/plain": [
       "<matplotlib.collections.PathCollection at 0x1e1dda00450>"
      ]
     },
     "execution_count": 91,
     "metadata": {},
     "output_type": "execute_result"
    },
    {
     "data": {
      "image/png": "[encoded data removed]",
      "text/plain": [
       "<Figure size 640x480 with 1 Axes>"
      ]
     },
     "metadata": {},
     "output_type": "display_data"
    }
   ],
   "source": [
    "plt.xlabel('LD1')\n",
    "plt.ylabel('LD2')\n",
    "plt.scatter(\n",
    "    X_lda[:,0],\n",
    "    y,\n",
    "    c=y,\n",
    "    cmap='rainbow',\n",
    "    alpha=0.7,\n",
    "    edgecolors='b'\n",
    ")\n"
   ]
  },
  {
   "cell_type": "markdown",
   "id": "ac075813",
   "metadata": {},
   "source": [
    "# Interprétation\n",
    "La répartition distincte des points sur l'axe discriminant principal (LD1), qui capture 100% de la variance entre les classes, suggère que les caractéristiques des demandeurs peuvent être utilisées pour prédire avec précision l'approbation du prêt. Bien que certaines superpositions soient observées le long de LD1, les résultats globaux indiquent que l'algorithme est capable de distinguer les deux classes malgré cela. Ainsi, il semble probable que les variables disponibles puissent être utilisées pour prédire l'approbation du prêt avec une certaine fiabilité."
   ]
  }
 ],
 "metadata": {
  "kernelspec": {
   "display_name": "Python 3 (ipykernel)",
   "language": "python",
   "name": "python3"
  },
  "language_info": {
   "codemirror_mode": {
    "name": "ipython",
    "version": 3
   },
   "file_extension": ".py",
   "mimetype": "text/x-python",
   "name": "python",
   "nbconvert_exporter": "python",
   "pygments_lexer": "ipython3",
   "version": "3.11.5"
  }
 },
 "nbformat": 4,
 "nbformat_minor": 5
}
